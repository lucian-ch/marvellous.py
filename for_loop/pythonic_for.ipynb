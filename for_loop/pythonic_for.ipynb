{
 "cells": [
  {
   "attachments": {},
   "cell_type": "markdown",
   "metadata": {},
   "source": [
    "# ***How to Write \"for\" in a More Pythonic Way***\n",
    "---\n",
    "### About:\n",
    "The **for loops** are used when you have a block of code which you want to repeat a **fixed number of times**. It is a very commonly used and important structure.\\\n",
    "However, in this tutorial, we will use a more **pythonic** way. Use **as few \"for\" as possible** to achieve the same purpose."
   ]
  },
  {
   "attachments": {},
   "cell_type": "markdown",
   "metadata": {},
   "source": [
    "## How a \"for loop\" works\n",
    "Before we start explaining how to write code elegantly in a pythonic way, let's understand how \"for loop\" works first."
   ]
  },
  {
   "attachments": {},
   "cell_type": "markdown",
   "metadata": {},
   "source": [
    "#### The following are some simple for loop code:"
   ]
  },
  {
   "cell_type": "code",
   "execution_count": null,
   "metadata": {},
   "outputs": [],
   "source": [
    "\"\"\"    List    \"\"\"\n",
    "lst = [0, 2, 4, 6, 8]\n",
    "for item in lst:\n",
    "    print(item)\n",
    "# Intuitive.\n",
    "\n",
    "\"\"\"    Dictionary    \"\"\"\n",
    "dic = {\"a\": 0, \"b\": 2, \"c\": 4, \"d\": 6, \"e\": 8}\n",
    "for item in dic:\n",
    "    print(item)\n",
    "# Why can dictionary use the \"for...in...\" structure?\n",
    "\n",
    "\"\"\"    File    \"\"\"\n",
    "with open(\"demo_text.txt\", \"r\", encoding=\"utf8\") as file:\n",
    "    for item in file:\n",
    "        print(item)\n",
    "# WTF???"
   ]
  },
  {
   "attachments": {},
   "cell_type": "markdown",
   "metadata": {},
   "source": [
    "#### For this reason, we need to understand two nouns:\n",
    "- [***iterable***](https://docs.python.org/3/glossary.html#term-iterable): An object capable of returning its members one at a time. (ex. list, str, tuple, dict, and file objects)\n",
    "- [***iterator***](https://docs.python.org/3/glossary.html#term-iterator): An object representing a stream of data.\n",
    "\n",
    "We can explain these two nouns in other words:\n",
    "- *iterable*: Something that can be iterated over. (Need to **implement** ***\\_\\_iter__*** function)\n",
    "- *iterator*: Something used to iterate. (Need to **implement** ***\\_\\_next__*** function)\n",
    "\n",
    "#### Then we also need to understand two functions:\n",
    "- [***\\_\\_iter__***](https://docs.python.org/3/library/stdtypes.html#iterator.__iter__): Returns an iterator object, and this object can call the \\_\\_next__ function\n",
    "- [***\\_\\_next__***](https://docs.python.org/3/library/stdtypes.html#iterator.__next__): This function will actually execute the iteration behavior of the iterator object\n",
    "\n",
    "We can combine the above content with the for...in... structure, so that we can understand what happened."
   ]
  },
  {
   "attachments": {},
   "cell_type": "markdown",
   "metadata": {},
   "source": [
    "##### Let's do it with the for...in... structure first"
   ]
  },
  {
   "cell_type": "code",
   "execution_count": null,
   "metadata": {},
   "outputs": [],
   "source": [
    "# First we create an iterable. Here take list as an example\n",
    "iterable = [0, 2, 4, 6, 8]\n",
    "\n",
    "# Then use the for loop to automatically create an iterable for iterator. \n",
    "# Finally start iterating and assigning it to i\n",
    "for i in iterable:\n",
    "    print(i)"
   ]
  },
  {
   "attachments": {},
   "cell_type": "markdown",
   "metadata": {},
   "source": [
    "##### Next, use the iter and next functions we just learned to repeat the implementation once"
   ]
  },
  {
   "cell_type": "code",
   "execution_count": null,
   "metadata": {},
   "outputs": [],
   "source": [
    "# First we create an iterable. Here take list as an example\n",
    "iterable = [0, 2, 4, 6, 8]"
   ]
  },
  {
   "cell_type": "code",
   "execution_count": null,
   "metadata": {},
   "outputs": [],
   "source": [
    "# Then we have to create an iterator on it.\n",
    "\"\"\"\n",
    "The iter() function calls python's preset __iter__ function and returns an iterator object.\n",
    "Then we store it into the iterator variable.\n",
    "\"\"\"\n",
    "iterator = iter(iterable)"
   ]
  },
  {
   "cell_type": "code",
   "execution_count": null,
   "metadata": {},
   "outputs": [],
   "source": [
    "# Then we can start iterating. (Click \"Execute cell\" repeatedly, let's see what happens)\n",
    "\"\"\"\n",
    "The next() function will call the python preset __next__ function\n",
    "\"\"\"\n",
    "i = next(iterator)\n",
    "print(i)"
   ]
  },
  {
   "attachments": {},
   "cell_type": "markdown",
   "metadata": {},
   "source": [
    "##### Yeah! We've done the iteration work manually like a for loop automatically iterates over an iterable!\n",
    "And that's what the for...in... structure is really doing.\n",
    "\n",
    "At this point, in addition to successfully learning the implementation of python's underlying **for loop**, we also learned what is **iterable and iterator**, and the role of the **\\_\\_iter__  and \\_\\_next__** function."
   ]
  },
  {
   "attachments": {},
   "cell_type": "markdown",
   "metadata": {},
   "source": [
    "#### Next, let's talk about its application (**Advanced, beginners can ignore**)"
   ]
  },
  {
   "attachments": {},
   "cell_type": "markdown",
   "metadata": {},
   "source": [
    "##### Implement a linked list that can be used in for loop\n",
    "In order for the linked list to be used by the for loop, we must manually implement the iter function of the linked list."
   ]
  },
  {
   "cell_type": "code",
   "execution_count": null,
   "metadata": {},
   "outputs": [],
   "source": [
    "# Node iterator (Need to implement the next function)\n",
    "class NodeIter():\n",
    "    def __init__(self, node) -> None:\n",
    "        self.current_node = node\n",
    "    def __next__(self):\n",
    "        if self.current_node is None:\n",
    "            # No data given (to the end)\n",
    "            raise StopIteration\n",
    "        node, self.current_node = self.current_node, self.current_node.next\n",
    "        return node\n",
    "\n",
    "    def __iter__(self):\n",
    "        return self\n",
    "\n",
    "# Define node iterable (Need to implement the iter function)\n",
    "class Node():\n",
    "    def __init__(self, name) -> None:\n",
    "        self.name = name\n",
    "        self.next = None\n",
    "    def __iter__(self) -> NodeIter:\n",
    "        return NodeIter(self)\n",
    "\n",
    "# Define relationships between nodes\n",
    "node1 = Node(\"n1\")\n",
    "node2 = Node(\"n2\")\n",
    "node3 = Node(\"n3\")\n",
    "node4 = Node(\"n4\")\n",
    "node5 = Node(\"n5\")\n",
    "node1.next = node2\n",
    "node2.next = node3\n",
    "node3.next = node4\n",
    "node4.next = node5\n",
    "\n",
    "# main\n",
    "for n in node1:\n",
    "    print(n.name)"
   ]
  },
  {
   "attachments": {},
   "cell_type": "markdown",
   "metadata": {},
   "source": [
    "You may find me **implementing \\_\\_iter__ in NodeIter**.\n",
    "\n",
    "It is not necessary to make iterator into iterable. However, **Python officially recommends that you implement it** to avoid some functions that require iterable from working properly.\n",
    "\n",
    "A case is given below:"
   ]
  },
  {
   "cell_type": "code",
   "execution_count": null,
   "metadata": {},
   "outputs": [],
   "source": [
    "iterator = iter(node1)\n",
    "# Start at node3\n",
    "next(iterator)\n",
    "next(iterator)\n",
    "\n",
    "for n in iterator:  # The iterator must be iterable, otherwise it can't be put into a for loop\n",
    "    print(n.name)"
   ]
  },
  {
   "attachments": {},
   "cell_type": "markdown",
   "metadata": {},
   "source": [
    "## Pythonic for writing\n",
    "After understanding the working principle of the for loop, we can start to understand what is the more pythonic \"for\" writing.\n",
    "\n",
    "The following codes will be given in the form of **cases**, **explained one by one**, and then **recommend the best way of writing** in my opinion."
   ]
  },
  {
   "attachments": {},
   "cell_type": "markdown",
   "metadata": {},
   "source": [
    "#### Pre-work\n",
    "There is a pre-work here. We need to use the timeit function to understand the time required for the code to work."
   ]
  },
  {
   "cell_type": "code",
   "execution_count": null,
   "metadata": {},
   "outputs": [],
   "source": [
    "# Here are the test tools we need\n",
    "from timeit import  timeit\n",
    "from dis import dis\n",
    "\n",
    "# The time required to run the function stmt 100,000 times\n",
    "def time_required(stmt):\n",
    "    print(f\"Time to run: {timeit(stmt, number= 100000)} s\")"
   ]
  },
  {
   "attachments": {},
   "cell_type": "markdown",
   "metadata": {},
   "source": [
    "#### Case 1: Build lists using iterator"
   ]
  },
  {
   "cell_type": "code",
   "execution_count": null,
   "metadata": {},
   "outputs": [],
   "source": [
    "def function1():\n",
    "    lst = []\n",
    "    for i in range(1000):\n",
    "        lst.append(i)\n",
    "    return lst\n",
    "\n",
    "def function2():\n",
    "    return [i for i in range(1000)]\n",
    "\n",
    "def function3():\n",
    "    return [*range(1000)]       # or list(range(1000))\n",
    "\n",
    "time_required(function1)\n",
    "time_required(function2)\n",
    "time_required(function3)"
   ]
  },
  {
   "attachments": {},
   "cell_type": "markdown",
   "metadata": {},
   "source": [
    "##### In this case, both function2 and function3 are faster than function1.\n",
    "Let's take a look at **function1** first:\n",
    "1. It creates an empty list.\n",
    "1. Then implement the iterator for the range, and use the for loop to take the value of the iterator and assign it to i.\n",
    "1. Finally **find & call the append function** to put i into the list.\n",
    "\n",
    "This is completely correct way of writing. However, since calling functions in python comes at a cost (need to find and call this function), this is not a good enough way to write.\n",
    "\n",
    "Let's take a look at **function2**:\\\n",
    "This style of coding is called **list comprehension**. Its full form is:\\\n",
    "*\\[**expression** for item in **iterable** if **condition**\\]*\n",
    "\n",
    "It consists of **three parts**:\n",
    "1. ***iterable***: The iterable can be any iterable object. (After each iteration, the current iteration value will be passed to item.)\n",
    "1. ***condition***: The condition is like a filter that only accepts the items that evaluate to True.\n",
    "1. ***expression***: The expression indicates how you want the item to be passed to the list in the end.\n",
    "\n",
    "Since it consists of a given form, python no longer needs to spend time looking for the append function in the list. Instead, just call it directly, so it saves a lot of time.\n",
    "\n",
    "If we change the \\[ \\] to \\( \\) and without any **condition**, we call this object a **generator**. You can understand it as a special iterator. Its form is:\\\n",
    "\\(**expression** for item in **iterable**\\)\n",
    "\n",
    "\n",
    "Finally, let's look at **function3**:\\\n",
    "It unpacks iterables directly using the *iterable syntax. It takes minimal time without any additional overhead.\n",
    "\n",
    "##### ***So, should I always use the function3 way of writing?***\n",
    "The answer is **no**. Since the operation of function3 is directly unpacked, it means that we have no way to operate on the value when extracting the iterated value. Therefore, unless generating a fixed and equally spaced list, **function2 is still the best choice**."
   ]
  },
  {
   "attachments": {},
   "cell_type": "markdown",
   "metadata": {},
   "source": [
    "#### Case 2: Built-in function"
   ]
  },
  {
   "cell_type": "code",
   "execution_count": null,
   "metadata": {},
   "outputs": [],
   "source": [
    "# Take finding the smallest number in the list as an example\n",
    "lst = [*range(1000,0,-1)]\n",
    "\n",
    "def homemade_fn():\n",
    "    min_val = lst[0]\n",
    "    for i in lst:\n",
    "        if min_val > i:\n",
    "            min_val = i\n",
    "    return min_val\n",
    "\n",
    "def builtin_fn():\n",
    "    return min(lst)\n",
    "\n",
    "time_required(homemade_fn)\n",
    "time_required(builtin_fn)"
   ]
  },
  {
   "attachments": {},
   "cell_type": "markdown",
   "metadata": {},
   "source": [
    "##### In this case, builtin_fn is faster than homemade_fn.\n",
    "Take finding the minimum value in a list as an example, the only way is to compare the list values one by one. Therefore, the code of both builtin_fn and homemade_fn is **already the simplest**.\n",
    "\n",
    "The main reason for the time difference between the homemade function and the built-in function is due to **the overhead brought by the bytecode** when running the python code.\n",
    "\n",
    "We can view the CPython bytecode of the two functions through ***dis*** module"
   ]
  },
  {
   "cell_type": "code",
   "execution_count": null,
   "metadata": {},
   "outputs": [],
   "source": [
    "print(\"homemade_fn bytecode:\")\n",
    "dis(homemade_fn)\n",
    "print(\"builtin_fn bytecode:\")\n",
    "dis(builtin_fn)"
   ]
  },
  {
   "attachments": {},
   "cell_type": "markdown",
   "metadata": {},
   "source": [
    "In this way, it will be clear at a glance. The overhead of builtin_fn is indeed much less than that of homemade_fn, so the speed is of course faster.\n",
    "\n",
    "##### ***So, should I use built-in functions instead of making my own functions as much as possible?***\n",
    "**Of course!** Although the built-in functions still need to extract objects one by one from python, they are all **implemented at C level in terms of loops, variable operations, and variable storage**, which can ***save more resources and time***."
   ]
  },
  {
   "attachments": {},
   "cell_type": "markdown",
   "metadata": {},
   "source": [
    "#### Case 3:  Any & All"
   ]
  },
  {
   "cell_type": "code",
   "execution_count": null,
   "metadata": {},
   "outputs": [],
   "source": [
    "# Look for an item or condition in a list and return true if present\n",
    "lst = [*range(0,3001, 5)]\n",
    "\n",
    "def myfind():\n",
    "    for i in lst:\n",
    "        if i > 2048:\n",
    "            return True\n",
    "    return False\n",
    "\n",
    "def any_find():\n",
    "    return any(i > 2048 for i in lst)\n",
    "\n",
    "time_required(myfind)\n",
    "time_required(any_find)"
   ]
  },
  {
   "cell_type": "code",
   "execution_count": null,
   "metadata": {},
   "outputs": [],
   "source": [
    "# Look for an item or condition in a list and return false if present\n",
    "lst = [*range(0,3001, 5)]\n",
    "\n",
    "def myfind():\n",
    "    for i in lst:\n",
    "        if i > 2048:\n",
    "            return False\n",
    "    return True\n",
    "\n",
    "def all_find():\n",
    "    return all(i <= 2048 for i in lst)\n",
    "\n",
    "time_required(myfind)\n",
    "time_required(all_find)"
   ]
  },
  {
   "attachments": {},
   "cell_type": "markdown",
   "metadata": {},
   "source": [
    "##### In this case, both any_find and all_find are **slower** than myfind.\n",
    "Could this be a Python bug?\\\n",
    "Of course not, the reason for the slowness is that the expression (ie **generator**) in any or all is **run at the python level**. Function myfind has much less to do than using generator like **creating a generator and calling a generator**. Thus, myfind is of course faster than any_find and all_find.\n",
    "\n",
    "Also, when using \"any\" and \"all\", **generators should be passed** instead of lists. Otherwise python needs to be reconverted, again an overhead.\n",
    "\n",
    "In fact, **without generator**, any and all are faster than for loop. Here is an example:"
   ]
  },
  {
   "cell_type": "code",
   "execution_count": null,
   "metadata": {},
   "outputs": [],
   "source": [
    "# Look for an item which is false and return true if present\n",
    "lst = [True] * 3000\n",
    "\n",
    "def myfind():\n",
    "    for i in lst:\n",
    "        if not i:\n",
    "            return False\n",
    "    return True\n",
    "\n",
    "def all_find():\n",
    "    return all(lst)\n",
    "\n",
    "time_required(myfind)\n",
    "time_required(all_find)"
   ]
  },
  {
   "attachments": {},
   "cell_type": "markdown",
   "metadata": {},
   "source": [
    "##### ***So should I still use the built-in \"any\" or \"all\" functions?***\n",
    "**It's up to you**, but I still **recommend you use the \"all\" and \"any\"** functions. Its code is more readable than using a for loop, and it is more concise to write."
   ]
  },
  {
   "attachments": {},
   "cell_type": "markdown",
   "metadata": {},
   "source": [
    "#### Case 4: Build lists using filter"
   ]
  },
  {
   "cell_type": "code",
   "execution_count": null,
   "metadata": {},
   "outputs": [],
   "source": [
    "# Find and return all items in the list less than 300\n",
    "lst = [*range(1000)]\n",
    "\n",
    "def is_smaller_than_300(num: int|float) -> bool:\n",
    "    return num < 300\n",
    "\n",
    "def function1():\n",
    "    result = []\n",
    "    for i in lst:\n",
    "        if is_smaller_than_300(i):\n",
    "            result.append(i)\n",
    "    return result\n",
    "\n",
    "def function2():\n",
    "    return [i for i in lst if is_smaller_than_300(i)]\n",
    "\n",
    "def function3():\n",
    "    return [*filter(is_smaller_than_300, lst)]\n",
    "\n",
    "time_required(function1)\n",
    "time_required(function2)\n",
    "time_required(function3)"
   ]
  },
  {
   "attachments": {},
   "cell_type": "markdown",
   "metadata": {},
   "source": [
    "##### In this case, both function2 and function3 are faster than function1.\n",
    "We can compare this case with case 1. Here is just **adding a condition** of judging that the item is less than 300 on the basis of case 1.\n",
    "\n",
    "Thus, we skip the explanation of function1 and function2.\n",
    "\n",
    "Let's look at **function3**:\\\n",
    "Here we use a **filter** object. Its function is to take out all the values of lst, judge it by is_smaller_than_300, and **return a generator**.\n",
    "\n",
    "Since the **generator is evaluated passively**, the speed of the filter is actually **very fast**. That is, most of the overhead of function3 is spent on unpacking. Let's take a look at the performance of the **filter without unpacking**:\n"
   ]
  },
  {
   "cell_type": "code",
   "execution_count": null,
   "metadata": {},
   "outputs": [],
   "source": [
    "lst = [*range(1000)]\n",
    "def filter_only():\n",
    "    return filter(is_smaller_than_300, lst)"
   ]
  },
  {
   "attachments": {},
   "cell_type": "markdown",
   "metadata": {},
   "source": [
    "Now you should know how fast the filter is!\\\n",
    "In fact, most of the time we just need an **iterator** instead of a list. At this time, the powerful advantages of the **filter** are reflected.\n",
    "\n",
    "In addition, if the **first parameter** passed in by the filter is **None**, the filter will **remove** all items in the list whose evaluate is **False** by default.\n",
    "\n",
    "##### ***So, should I use filter instead of list comprehension as much as possible?***\n",
    "If what you need is to return a **list**, then **it's still up to you**. It depends on which code you are used to and the readability of the code. However, when you still need to **iterate** next, please consider using **filter**."
   ]
  },
  {
   "attachments": {},
   "cell_type": "markdown",
   "metadata": {},
   "source": [
    "#### Case 5: zip"
   ]
  },
  {
   "cell_type": "code",
   "execution_count": null,
   "metadata": {},
   "outputs": [],
   "source": [
    "lst = [*range(1, 1000)]\n",
    "lst2 = [*range(999, 0, -1)]\n",
    "\n",
    "def myzip_fn():\n",
    "    result = []\n",
    "    for i in range(len(lst)):\n",
    "        result.append((lst[i], lst2[i]))\n",
    "    return result\n",
    "\n",
    "def zip_fn():\n",
    "    return [*zip(lst, lst2)]\n",
    "\n",
    "time_required(myzip_fn)\n",
    "time_required(zip_fn)\n"
   ]
  },
  {
   "attachments": {},
   "cell_type": "markdown",
   "metadata": {},
   "source": [
    "##### At some cases, we want to **zip two iterables together**, as shown above. \n",
    "In this case, using **zip** object is **several times faster** than **implementing zip yourself**.\n",
    "\n",
    "It is worth mentioning that **zip** still returns a **generator**, which means that like case 4, the **overhead of zip** itself is almost **non-existent**.\n",
    "\n",
    "##### ***So, should I use zip if possible in this case?***\n",
    "**Of course!** Regardless of the level of code writing, time-consuming or overhead,  zip itself is the **optimal solution**. So in this case you **should use zip** anyway.\n"
   ]
  }
 ],
 "metadata": {
  "kernelspec": {
   "display_name": "marvellous",
   "language": "python",
   "name": "python3"
  },
  "language_info": {
   "codemirror_mode": {
    "name": "ipython",
    "version": 3
   },
   "file_extension": ".py",
   "mimetype": "text/x-python",
   "name": "python",
   "nbconvert_exporter": "python",
   "pygments_lexer": "ipython3",
   "version": "3.10.10"
  },
  "orig_nbformat": 4
 },
 "nbformat": 4,
 "nbformat_minor": 2
}
