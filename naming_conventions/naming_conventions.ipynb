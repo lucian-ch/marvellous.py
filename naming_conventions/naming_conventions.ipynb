{
 "cells": [
  {
   "attachments": {},
   "cell_type": "markdown",
   "metadata": {},
   "source": [
    "# ***How to Name Variables in Python More Consistently***\n",
    "---\n",
    "### About:\n",
    "This is a teaching about python **naming conventions**, aiming to let more people know how to write **better variable names** and reduce the cost of maintaining code.\n",
    "\n",
    "This article is taught as specified in [***PEP 8***](https://peps.python.org/pep-0008/).\n"
   ]
  },
  {
   "attachments": {},
   "cell_type": "markdown",
   "metadata": {},
   "source": [
    "## What variable names are legal in python\n",
    "Before starting to introduce naming conventions, let's talk about what kind of variable names are legal in python."
   ]
  },
  {
   "attachments": {},
   "cell_type": "markdown",
   "metadata": {},
   "source": [
    "In CPython, a **legal variable name** can be composed of **uppercase and lowercase letters**, **underscores**, and **numbers**. In addition, the variable **cannot start with a number**. Also, the variable **can't have the same name as the built-in function or keyword**. Here are some examples:"
   ]
  },
  {
   "cell_type": "code",
   "execution_count": null,
   "metadata": {},
   "outputs": [],
   "source": [
    "\"\"\"     Legal variable name     \"\"\"\n",
    "a12Bd_aD    = 0\n",
    "BafJFIda    = 2.5\n",
    "_2fjsA6D    = \"\"\n",
    "名_A2       = []\n",
    "\n",
    "\"\"\"     Invalid variable name     \"\"\"\n",
    "# Cannot start with a number.\n",
    "2fjacm      = 0\n",
    "\n",
    "# Can only consist of uppercase and lowercase letters, underscores, and numbers.\n",
    ")=fejakl    = 2.5\n",
    "\n",
    "# Can not have the same name as the built-in function or keyword.\n",
    "for         = \"\""
   ]
  },
  {
   "attachments": {},
   "cell_type": "markdown",
   "metadata": {},
   "source": [
    "Such loose rules give us **a lot of operation methods in variable naming**, but it also brings **a lot of trouble to read the code**."
   ]
  },
  {
   "attachments": {},
   "cell_type": "markdown",
   "metadata": {},
   "source": [
    "## Naming conventions\n",
    "In order to solve the above problems, **naming convention** appeared. Its purpose is to achieve **consistency**."
   ]
  },
  {
   "attachments": {},
   "cell_type": "markdown",
   "metadata": {},
   "source": [
    "There are a lot of different naming styles. It helps to be able to recognize what naming style is being used, independently from what they are used for. The following are the four **most common naming styles**:"
   ]
  },
  {
   "cell_type": "code",
   "execution_count": null,
   "metadata": {},
   "outputs": [],
   "source": [
    "lower_underscore = 1\n",
    "UPPER_UNDERSCORE = 2\n",
    "CamelCase = 3\n",
    "mixedCase = 4"
   ]
  },
  {
   "attachments": {},
   "cell_type": "markdown",
   "metadata": {},
   "source": [
    "The above four are legal naming styles, but **python only uses the first three naming styles**. \n",
    "\n",
    "Now let's talk about their respective uses!"
   ]
  },
  {
   "attachments": {},
   "cell_type": "markdown",
   "metadata": {},
   "source": [
    "#### Case 1: **UPPER_UNDERSCORE**\n",
    "The only case where we use **UPPER_UNDERSCORE** naming style is for **constants**. It means that this value will never change. Here are some examples of it:\n"
   ]
  },
  {
   "cell_type": "code",
   "execution_count": null,
   "metadata": {},
   "outputs": [],
   "source": [
    "PI = 3.14159\n",
    "SQUARE_ROOT_2 = 1.41421\n",
    "GOLDEN_RATIO = 1.61803"
   ]
  },
  {
   "attachments": {},
   "cell_type": "markdown",
   "metadata": {},
   "source": [
    "Also, if you see this **naming style in the Python Standard Library**, it's also a **constant**."
   ]
  },
  {
   "attachments": {},
   "cell_type": "markdown",
   "metadata": {},
   "source": [
    "#### Case 2: **CamelCase**\n",
    "This naming style is also used in only one case, called **class definition**. Here are some examples:\n"
   ]
  },
  {
   "cell_type": "code",
   "execution_count": null,
   "metadata": {},
   "outputs": [],
   "source": [
    "class MyClass:\n",
    "    pass\n",
    "\n",
    "class MyClass():\n",
    "    pass\n",
    "\n",
    "class MyClass(object):\n",
    "    pass"
   ]
  },
  {
   "attachments": {},
   "cell_type": "markdown",
   "metadata": {},
   "source": [
    "#### Case 3: **lower_underscore**\n",
    "Except for constant and class definition, **all other variables use this naming style**. Here are some examples:"
   ]
  },
  {
   "cell_type": "code",
   "execution_count": null,
   "metadata": {},
   "outputs": [],
   "source": [
    "# module\n",
    "import my_module\n",
    "\n",
    "# variable\n",
    "my_var = 1\n",
    "\n",
    "# function\n",
    "def my_function():\n",
    "    pass\n",
    "\n",
    "# method of class\n",
    "class MyClass():\n",
    "    def my_method(self):\n",
    "        pass"
   ]
  },
  {
   "attachments": {},
   "cell_type": "markdown",
   "metadata": {},
   "source": [
    "The main reason for their consistent naming style is that **these items are often used and passed as variables**, and they also have a lot in common."
   ]
  },
  {
   "attachments": {},
   "cell_type": "markdown",
   "metadata": {},
   "source": [
    "## Prefix\n",
    "Although the above is the complete naming style.\n",
    "However, there is another habit in python called **prefix**. Think of it as **adding a leading underscore to the above naming**. There are several different prefix types here:"
   ]
  },
  {
   "attachments": {},
   "cell_type": "markdown",
   "metadata": {},
   "source": [
    "#### Case 1: **Single underscore**\n",
    "This is generally used as a **placeholder**.  It means that there should be a variable in the python syntax, but I won't use this variable. At this time, the variable can be directly **represented by \" _ \"**. For example:\n"
   ]
  },
  {
   "cell_type": "code",
   "execution_count": null,
   "metadata": {},
   "outputs": [],
   "source": [
    "for _ in range(5):\n",
    "    print(\"Hello\")"
   ]
  },
  {
   "attachments": {},
   "cell_type": "markdown",
   "metadata": {},
   "source": [
    "#### Case 2: **Single leading underscore**\n",
    "By **prefixing a variable with an underscore**, the variable is indicated to be **weakly private**. This variable tries to express the attribute of private, which is to **tell others that this variable is not open to you**. For example:\n"
   ]
  },
  {
   "cell_type": "code",
   "execution_count": null,
   "metadata": {},
   "outputs": [],
   "source": [
    "# global variable\n",
    "_cache = []\n",
    "\n",
    "# method\n",
    "class Myclass:\n",
    "    def _private_method(self):\n",
    "        pass\n",
    "\n",
    "obj = Myclass()\n",
    "# You can still access this method. It's just a reminder.\n",
    "obj._private_method()"
   ]
  },
  {
   "attachments": {},
   "cell_type": "markdown",
   "metadata": {},
   "source": [
    "It's worth mentioning the case when **using a single leading underscore in a global variable when writing a module**. In this case, when using \"**from module import \\***\", it **will not import this variable**."
   ]
  },
  {
   "attachments": {},
   "cell_type": "markdown",
   "metadata": {},
   "source": [
    "#### Case 3: **Double leading underscore**\n",
    "By **prefixing a variable with double underscore**, such variables are said to be **strongly private**. This style is **used in class** to express the attribute of private. **You can't access the variable outside the class**. (In fact, there is still a way, but don't break the rules!)\n",
    "\n",
    "Here's an example:"
   ]
  },
  {
   "cell_type": "code",
   "execution_count": null,
   "metadata": {},
   "outputs": [],
   "source": [
    "# method\n",
    "class Myclass:\n",
    "    def __private_method(self):\n",
    "        pass\n",
    "\n",
    "obj = Myclass()\n",
    "# You can't access this method right now.\n",
    "obj.__private_method()"
   ]
  },
  {
   "attachments": {},
   "cell_type": "markdown",
   "metadata": {},
   "source": [
    "#### Case 4: **Double underscore before and after the variable**\n",
    "Such variables are called **magic methods**. **Do not define variable names in this form**! With magic methods, the only thing to do is to use them.\n",
    "\n",
    "Here's an example:"
   ]
  },
  {
   "cell_type": "code",
   "execution_count": null,
   "metadata": {},
   "outputs": [],
   "source": [
    "# __name__ is a magic method\n",
    "if __name__ == \"__main__\":\n",
    "    pass"
   ]
  },
  {
   "attachments": {},
   "cell_type": "markdown",
   "metadata": {},
   "source": [
    "## How to judge the quality of variable name\n",
    "A good variable name is one that **contains more useful information** in the **shortest possible name**. It can be composed of multiple words, but the meaning needs to be as clear as possible. Here are some examples for comparison:"
   ]
  },
  {
   "cell_type": "code",
   "execution_count": null,
   "metadata": {},
   "outputs": [],
   "source": [
    "n = \"John\"\n",
    "name = \"John\"\n",
    "username = \"John\"\n",
    "the_username_from_sql_on_mongodb = \"John\""
   ]
  },
  {
   "attachments": {},
   "cell_type": "markdown",
   "metadata": {},
   "source": [
    "All four variable names are legal. \n",
    "\n",
    "However, the first variable name is arguably meaningless, **you can't get any useful information from the letter n**.\n",
    "\n",
    "The second variable name is better than the first one, but the \"name\" **still has many possibilities**, eg: company name, file name, etc., you still can't tell which type it refers to.\n",
    "\n",
    "The third variable name is the **best choice**, it **clearly shows** that the variable is a \"**username**\".\n",
    "\n",
    "The fourth variable name will not be our choice due to the **long description**.\n",
    "\n"
   ]
  }
 ],
 "metadata": {
  "kernelspec": {
   "display_name": "marvellous",
   "language": "python",
   "name": "python3"
  },
  "language_info": {
   "codemirror_mode": {
    "name": "ipython",
    "version": 3
   },
   "file_extension": ".py",
   "mimetype": "text/x-python",
   "name": "python",
   "nbconvert_exporter": "python",
   "pygments_lexer": "ipython3",
   "version": "3.10.10"
  },
  "orig_nbformat": 4
 },
 "nbformat": 4,
 "nbformat_minor": 2
}
